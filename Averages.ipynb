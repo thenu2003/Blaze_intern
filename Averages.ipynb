{
 "cells": [
  {
   "cell_type": "code",
   "execution_count": 3,
   "id": "1530bd39",
   "metadata": {},
   "outputs": [
    {
     "name": "stdout",
     "output_type": "stream",
     "text": [
      "Requirement already satisfied: yfinance in c:\\users\\sivam\\appdata\\local\\programs\\python\\python310\\lib\\site-packages (0.2.22)\n",
      "Requirement already satisfied: lxml>=4.9.1 in c:\\users\\sivam\\appdata\\local\\programs\\python\\python310\\lib\\site-packages (from yfinance) (4.9.3)\n",
      "Requirement already satisfied: pytz>=2022.5 in c:\\users\\sivam\\appdata\\local\\programs\\python\\python310\\lib\\site-packages (from yfinance) (2023.3)\n",
      "Requirement already satisfied: pandas>=1.3.0 in c:\\users\\sivam\\appdata\\local\\programs\\python\\python310\\lib\\site-packages (from yfinance) (2.0.0)\n",
      "Requirement already satisfied: frozendict>=2.3.4 in c:\\users\\sivam\\appdata\\local\\programs\\python\\python310\\lib\\site-packages (from yfinance) (2.3.8)\n",
      "Requirement already satisfied: beautifulsoup4>=4.11.1 in c:\\users\\sivam\\appdata\\local\\programs\\python\\python310\\lib\\site-packages (from yfinance) (4.12.2)\n",
      "Requirement already satisfied: appdirs>=1.4.4 in c:\\users\\sivam\\appdata\\local\\programs\\python\\python310\\lib\\site-packages (from yfinance) (1.4.4)\n",
      "Requirement already satisfied: numpy>=1.16.5 in c:\\users\\sivam\\appdata\\local\\programs\\python\\python310\\lib\\site-packages (from yfinance) (1.24.2)\n",
      "Requirement already satisfied: requests>=2.26 in c:\\users\\sivam\\appdata\\local\\programs\\python\\python310\\lib\\site-packages (from yfinance) (2.28.2)\n",
      "Requirement already satisfied: html5lib>=1.1 in c:\\users\\sivam\\appdata\\local\\programs\\python\\python310\\lib\\site-packages (from yfinance) (1.1)\n",
      "Requirement already satisfied: multitasking>=0.0.7 in c:\\users\\sivam\\appdata\\local\\programs\\python\\python310\\lib\\site-packages (from yfinance) (0.0.11)\n",
      "Requirement already satisfied: soupsieve>1.2 in c:\\users\\sivam\\appdata\\local\\programs\\python\\python310\\lib\\site-packages (from beautifulsoup4>=4.11.1->yfinance) (2.4.1)\n",
      "Requirement already satisfied: six>=1.9 in c:\\users\\sivam\\appdata\\local\\programs\\python\\python310\\lib\\site-packages (from html5lib>=1.1->yfinance) (1.16.0)\n",
      "Requirement already satisfied: webencodings in c:\\users\\sivam\\appdata\\local\\programs\\python\\python310\\lib\\site-packages (from html5lib>=1.1->yfinance) (0.5.1)\n",
      "Requirement already satisfied: tzdata>=2022.1 in c:\\users\\sivam\\appdata\\local\\programs\\python\\python310\\lib\\site-packages (from pandas>=1.3.0->yfinance) (2023.3)\n",
      "Requirement already satisfied: python-dateutil>=2.8.2 in c:\\users\\sivam\\appdata\\local\\programs\\python\\python310\\lib\\site-packages (from pandas>=1.3.0->yfinance) (2.8.2)\n",
      "Requirement already satisfied: idna<4,>=2.5 in c:\\users\\sivam\\appdata\\local\\programs\\python\\python310\\lib\\site-packages (from requests>=2.26->yfinance) (3.4)\n",
      "Requirement already satisfied: charset-normalizer<4,>=2 in c:\\users\\sivam\\appdata\\local\\programs\\python\\python310\\lib\\site-packages (from requests>=2.26->yfinance) (3.1.0)\n",
      "Requirement already satisfied: urllib3<1.27,>=1.21.1 in c:\\users\\sivam\\appdata\\local\\programs\\python\\python310\\lib\\site-packages (from requests>=2.26->yfinance) (1.26.15)\n",
      "Requirement already satisfied: certifi>=2017.4.17 in c:\\users\\sivam\\appdata\\local\\programs\\python\\python310\\lib\\site-packages (from requests>=2.26->yfinance) (2022.12.7)\n",
      "Note: you may need to restart the kernel to use updated packages.\n"
     ]
    },
    {
     "name": "stderr",
     "output_type": "stream",
     "text": [
      "\n",
      "[notice] A new release of pip available: 22.3.1 -> 23.1.2\n",
      "[notice] To update, run: C:\\Users\\sivam\\AppData\\Local\\Programs\\Python\\Python310\\python.exe -m pip install --upgrade pip\n"
     ]
    }
   ],
   "source": [
    "pip install yfinance \n"
   ]
  },
  {
   "cell_type": "code",
   "execution_count": null,
   "id": "8ea219cc",
   "metadata": {},
   "outputs": [],
   "source": [
    "# For Bitcoin"
   ]
  },
  {
   "cell_type": "code",
   "execution_count": 4,
   "id": "e8e6748a",
   "metadata": {},
   "outputs": [],
   "source": [
    "import yfinance as yf\n",
    "import pandas as pd"
   ]
  },
  {
   "cell_type": "code",
   "execution_count": 5,
   "id": "53d483f0",
   "metadata": {},
   "outputs": [
    {
     "name": "stdout",
     "output_type": "stream",
     "text": [
      "[*********************100%***********************]  1 of 1 completed\n"
     ]
    }
   ],
   "source": [
    "data = yf.download(\n",
    "    tickers = \"BTC-USD\",\n",
    "    period = \"5d\",\n",
    "    interval= \"15m\"\n",
    ")"
   ]
  },
  {
   "cell_type": "code",
   "execution_count": 6,
   "id": "47673f57",
   "metadata": {},
   "outputs": [
    {
     "data": {
      "text/html": [
       "<div>\n",
       "<style scoped>\n",
       "    .dataframe tbody tr th:only-of-type {\n",
       "        vertical-align: middle;\n",
       "    }\n",
       "\n",
       "    .dataframe tbody tr th {\n",
       "        vertical-align: top;\n",
       "    }\n",
       "\n",
       "    .dataframe thead th {\n",
       "        text-align: right;\n",
       "    }\n",
       "</style>\n",
       "<table border=\"1\" class=\"dataframe\">\n",
       "  <thead>\n",
       "    <tr style=\"text-align: right;\">\n",
       "      <th></th>\n",
       "      <th>Open</th>\n",
       "      <th>High</th>\n",
       "      <th>Low</th>\n",
       "      <th>Close</th>\n",
       "      <th>Adj Close</th>\n",
       "      <th>Volume</th>\n",
       "    </tr>\n",
       "    <tr>\n",
       "      <th>Datetime</th>\n",
       "      <th></th>\n",
       "      <th></th>\n",
       "      <th></th>\n",
       "      <th></th>\n",
       "      <th></th>\n",
       "      <th></th>\n",
       "    </tr>\n",
       "  </thead>\n",
       "  <tbody>\n",
       "    <tr>\n",
       "      <th>2023-07-08 00:00:00</th>\n",
       "      <td>30346.921875</td>\n",
       "      <td>30346.921875</td>\n",
       "      <td>30327.437500</td>\n",
       "      <td>30331.720703</td>\n",
       "      <td>30331.720703</td>\n",
       "      <td>0</td>\n",
       "    </tr>\n",
       "    <tr>\n",
       "      <th>2023-07-08 00:15:00</th>\n",
       "      <td>30322.843750</td>\n",
       "      <td>30332.111328</td>\n",
       "      <td>30308.957031</td>\n",
       "      <td>30308.957031</td>\n",
       "      <td>30308.957031</td>\n",
       "      <td>0</td>\n",
       "    </tr>\n",
       "    <tr>\n",
       "      <th>2023-07-08 00:30:00</th>\n",
       "      <td>30312.671875</td>\n",
       "      <td>30314.921875</td>\n",
       "      <td>30303.632812</td>\n",
       "      <td>30314.921875</td>\n",
       "      <td>30314.921875</td>\n",
       "      <td>0</td>\n",
       "    </tr>\n",
       "    <tr>\n",
       "      <th>2023-07-08 00:45:00</th>\n",
       "      <td>30314.707031</td>\n",
       "      <td>30314.707031</td>\n",
       "      <td>30297.013672</td>\n",
       "      <td>30297.375000</td>\n",
       "      <td>30297.375000</td>\n",
       "      <td>0</td>\n",
       "    </tr>\n",
       "    <tr>\n",
       "      <th>2023-07-08 01:00:00</th>\n",
       "      <td>30292.218750</td>\n",
       "      <td>30295.556641</td>\n",
       "      <td>30271.626953</td>\n",
       "      <td>30279.517578</td>\n",
       "      <td>30279.517578</td>\n",
       "      <td>0</td>\n",
       "    </tr>\n",
       "  </tbody>\n",
       "</table>\n",
       "</div>"
      ],
      "text/plain": [
       "                             Open          High           Low         Close   \n",
       "Datetime                                                                      \n",
       "2023-07-08 00:00:00  30346.921875  30346.921875  30327.437500  30331.720703  \\\n",
       "2023-07-08 00:15:00  30322.843750  30332.111328  30308.957031  30308.957031   \n",
       "2023-07-08 00:30:00  30312.671875  30314.921875  30303.632812  30314.921875   \n",
       "2023-07-08 00:45:00  30314.707031  30314.707031  30297.013672  30297.375000   \n",
       "2023-07-08 01:00:00  30292.218750  30295.556641  30271.626953  30279.517578   \n",
       "\n",
       "                        Adj Close  Volume  \n",
       "Datetime                                   \n",
       "2023-07-08 00:00:00  30331.720703       0  \n",
       "2023-07-08 00:15:00  30308.957031       0  \n",
       "2023-07-08 00:30:00  30314.921875       0  \n",
       "2023-07-08 00:45:00  30297.375000       0  \n",
       "2023-07-08 01:00:00  30279.517578       0  "
      ]
     },
     "execution_count": 6,
     "metadata": {},
     "output_type": "execute_result"
    }
   ],
   "source": [
    "data.head()\n"
   ]
  },
  {
   "cell_type": "code",
   "execution_count": 31,
   "id": "b39f09a3",
   "metadata": {},
   "outputs": [],
   "source": [
    "# Assuming you have a CSV file with historical Bitcoin data\n",
    "data = pd.read_csv('data1')\n",
    "\n"
   ]
  },
  {
   "cell_type": "code",
   "execution_count": 34,
   "id": "526e0551",
   "metadata": {},
   "outputs": [
    {
     "data": {
      "text/html": [
       "<div>\n",
       "<style scoped>\n",
       "    .dataframe tbody tr th:only-of-type {\n",
       "        vertical-align: middle;\n",
       "    }\n",
       "\n",
       "    .dataframe tbody tr th {\n",
       "        vertical-align: top;\n",
       "    }\n",
       "\n",
       "    .dataframe thead th {\n",
       "        text-align: right;\n",
       "    }\n",
       "</style>\n",
       "<table border=\"1\" class=\"dataframe\">\n",
       "  <thead>\n",
       "    <tr style=\"text-align: right;\">\n",
       "      <th></th>\n",
       "      <th>Datetime</th>\n",
       "      <th>Open</th>\n",
       "      <th>High</th>\n",
       "      <th>Low</th>\n",
       "      <th>Close</th>\n",
       "      <th>Adj Close</th>\n",
       "      <th>Volume</th>\n",
       "    </tr>\n",
       "  </thead>\n",
       "  <tbody>\n",
       "    <tr>\n",
       "      <th>402</th>\n",
       "      <td>2023-07-12 04:30:00</td>\n",
       "      <td>30608.753906</td>\n",
       "      <td>30615.916016</td>\n",
       "      <td>30607.246094</td>\n",
       "      <td>30607.246094</td>\n",
       "      <td>30607.246094</td>\n",
       "      <td>13652992</td>\n",
       "    </tr>\n",
       "    <tr>\n",
       "      <th>403</th>\n",
       "      <td>2023-07-12 04:45:00</td>\n",
       "      <td>30603.580078</td>\n",
       "      <td>30625.734375</td>\n",
       "      <td>30603.580078</td>\n",
       "      <td>30624.212891</td>\n",
       "      <td>30624.212891</td>\n",
       "      <td>6733824</td>\n",
       "    </tr>\n",
       "    <tr>\n",
       "      <th>404</th>\n",
       "      <td>2023-07-12 05:00:00</td>\n",
       "      <td>30631.648438</td>\n",
       "      <td>30633.550781</td>\n",
       "      <td>30626.605469</td>\n",
       "      <td>30633.550781</td>\n",
       "      <td>30633.550781</td>\n",
       "      <td>4941824</td>\n",
       "    </tr>\n",
       "    <tr>\n",
       "      <th>405</th>\n",
       "      <td>2023-07-12 05:15:00</td>\n",
       "      <td>30634.861328</td>\n",
       "      <td>30667.742188</td>\n",
       "      <td>30630.628906</td>\n",
       "      <td>30635.679688</td>\n",
       "      <td>30635.679688</td>\n",
       "      <td>25804800</td>\n",
       "    </tr>\n",
       "    <tr>\n",
       "      <th>406</th>\n",
       "      <td>2023-07-12 05:30:00</td>\n",
       "      <td>30637.845703</td>\n",
       "      <td>30639.062500</td>\n",
       "      <td>30631.962891</td>\n",
       "      <td>30638.671875</td>\n",
       "      <td>30638.671875</td>\n",
       "      <td>13250560</td>\n",
       "    </tr>\n",
       "  </tbody>\n",
       "</table>\n",
       "</div>"
      ],
      "text/plain": [
       "                Datetime          Open          High           Low   \n",
       "402  2023-07-12 04:30:00  30608.753906  30615.916016  30607.246094  \\\n",
       "403  2023-07-12 04:45:00  30603.580078  30625.734375  30603.580078   \n",
       "404  2023-07-12 05:00:00  30631.648438  30633.550781  30626.605469   \n",
       "405  2023-07-12 05:15:00  30634.861328  30667.742188  30630.628906   \n",
       "406  2023-07-12 05:30:00  30637.845703  30639.062500  30631.962891   \n",
       "\n",
       "            Close     Adj Close    Volume  \n",
       "402  30607.246094  30607.246094  13652992  \n",
       "403  30624.212891  30624.212891   6733824  \n",
       "404  30633.550781  30633.550781   4941824  \n",
       "405  30635.679688  30635.679688  25804800  \n",
       "406  30638.671875  30638.671875  13250560  "
      ]
     },
     "execution_count": 34,
     "metadata": {},
     "output_type": "execute_result"
    }
   ],
   "source": [
    "data.tail()"
   ]
  },
  {
   "cell_type": "code",
   "execution_count": 32,
   "id": "d9301f9e",
   "metadata": {},
   "outputs": [],
   "source": [
    "# Calculate the average closing price for Bitcoin\n",
    "average_close_price = data['Close'].mean()\n"
   ]
  },
  {
   "cell_type": "code",
   "execution_count": 33,
   "id": "a6a27bf6",
   "metadata": {},
   "outputs": [
    {
     "name": "stdout",
     "output_type": "stream",
     "text": [
      "Average closing price of Bitcoin: 30337.228525222665\n"
     ]
    }
   ],
   "source": [
    "print(\"Average closing price of Bitcoin:\", average_close_price)"
   ]
  },
  {
   "cell_type": "code",
   "execution_count": null,
   "id": "31720726",
   "metadata": {},
   "outputs": [],
   "source": [
    "# Ethereum"
   ]
  },
  {
   "cell_type": "code",
   "execution_count": 35,
   "id": "ddd5bbac",
   "metadata": {},
   "outputs": [
    {
     "name": "stdout",
     "output_type": "stream",
     "text": [
      "[*********************100%***********************]  1 of 1 completed\n"
     ]
    }
   ],
   "source": [
    "data = yf.download(\n",
    "    tickers = \"ETH-USD\",\n",
    "    period = \"5d\",\n",
    "    interval= \"15m\"\n",
    ")"
   ]
  },
  {
   "cell_type": "code",
   "execution_count": 36,
   "id": "6b25dc3c",
   "metadata": {},
   "outputs": [
    {
     "data": {
      "text/html": [
       "<div>\n",
       "<style scoped>\n",
       "    .dataframe tbody tr th:only-of-type {\n",
       "        vertical-align: middle;\n",
       "    }\n",
       "\n",
       "    .dataframe tbody tr th {\n",
       "        vertical-align: top;\n",
       "    }\n",
       "\n",
       "    .dataframe thead th {\n",
       "        text-align: right;\n",
       "    }\n",
       "</style>\n",
       "<table border=\"1\" class=\"dataframe\">\n",
       "  <thead>\n",
       "    <tr style=\"text-align: right;\">\n",
       "      <th></th>\n",
       "      <th>Open</th>\n",
       "      <th>High</th>\n",
       "      <th>Low</th>\n",
       "      <th>Close</th>\n",
       "      <th>Adj Close</th>\n",
       "      <th>Volume</th>\n",
       "    </tr>\n",
       "    <tr>\n",
       "      <th>Datetime</th>\n",
       "      <th></th>\n",
       "      <th></th>\n",
       "      <th></th>\n",
       "      <th></th>\n",
       "      <th></th>\n",
       "      <th></th>\n",
       "    </tr>\n",
       "  </thead>\n",
       "  <tbody>\n",
       "    <tr>\n",
       "      <th>2023-07-08 00:00:00</th>\n",
       "      <td>1871.002075</td>\n",
       "      <td>1871.002075</td>\n",
       "      <td>1869.569580</td>\n",
       "      <td>1869.569580</td>\n",
       "      <td>1869.569580</td>\n",
       "      <td>0</td>\n",
       "    </tr>\n",
       "    <tr>\n",
       "      <th>2023-07-08 00:15:00</th>\n",
       "      <td>1869.708252</td>\n",
       "      <td>1870.483398</td>\n",
       "      <td>1869.397827</td>\n",
       "      <td>1869.840210</td>\n",
       "      <td>1869.840210</td>\n",
       "      <td>0</td>\n",
       "    </tr>\n",
       "    <tr>\n",
       "      <th>2023-07-08 00:30:00</th>\n",
       "      <td>1869.743652</td>\n",
       "      <td>1870.336060</td>\n",
       "      <td>1868.788818</td>\n",
       "      <td>1870.336060</td>\n",
       "      <td>1870.336060</td>\n",
       "      <td>0</td>\n",
       "    </tr>\n",
       "    <tr>\n",
       "      <th>2023-07-08 00:45:00</th>\n",
       "      <td>1870.356812</td>\n",
       "      <td>1870.633911</td>\n",
       "      <td>1869.628906</td>\n",
       "      <td>1870.288696</td>\n",
       "      <td>1870.288696</td>\n",
       "      <td>0</td>\n",
       "    </tr>\n",
       "    <tr>\n",
       "      <th>2023-07-08 01:00:00</th>\n",
       "      <td>1872.501587</td>\n",
       "      <td>1872.501587</td>\n",
       "      <td>1869.823608</td>\n",
       "      <td>1870.249634</td>\n",
       "      <td>1870.249634</td>\n",
       "      <td>0</td>\n",
       "    </tr>\n",
       "  </tbody>\n",
       "</table>\n",
       "</div>"
      ],
      "text/plain": [
       "                            Open         High          Low        Close   \n",
       "Datetime                                                                  \n",
       "2023-07-08 00:00:00  1871.002075  1871.002075  1869.569580  1869.569580  \\\n",
       "2023-07-08 00:15:00  1869.708252  1870.483398  1869.397827  1869.840210   \n",
       "2023-07-08 00:30:00  1869.743652  1870.336060  1868.788818  1870.336060   \n",
       "2023-07-08 00:45:00  1870.356812  1870.633911  1869.628906  1870.288696   \n",
       "2023-07-08 01:00:00  1872.501587  1872.501587  1869.823608  1870.249634   \n",
       "\n",
       "                       Adj Close  Volume  \n",
       "Datetime                                  \n",
       "2023-07-08 00:00:00  1869.569580       0  \n",
       "2023-07-08 00:15:00  1869.840210       0  \n",
       "2023-07-08 00:30:00  1870.336060       0  \n",
       "2023-07-08 00:45:00  1870.288696       0  \n",
       "2023-07-08 01:00:00  1870.249634       0  "
      ]
     },
     "execution_count": 36,
     "metadata": {},
     "output_type": "execute_result"
    }
   ],
   "source": [
    "data.head()\n"
   ]
  },
  {
   "cell_type": "code",
   "execution_count": 39,
   "id": "755013ac",
   "metadata": {},
   "outputs": [],
   "source": [
    "data.to_csv(\"data2\")"
   ]
  },
  {
   "cell_type": "code",
   "execution_count": 40,
   "id": "f529164f",
   "metadata": {},
   "outputs": [],
   "source": [
    "# Assuming you have a CSV file with historical Ethereum data\n",
    "data = pd.read_csv('data2')\n",
    "\n"
   ]
  },
  {
   "cell_type": "code",
   "execution_count": 41,
   "id": "684689aa",
   "metadata": {},
   "outputs": [],
   "source": [
    "# Calculate the average closing price for Ethereum\n",
    "average_close_price = data['Close'].mean()\n"
   ]
  },
  {
   "cell_type": "code",
   "execution_count": 42,
   "id": "502ff2ea",
   "metadata": {},
   "outputs": [
    {
     "name": "stdout",
     "output_type": "stream",
     "text": [
      "Average closing price of Ethereum: 1868.9296958365092\n"
     ]
    }
   ],
   "source": [
    "print(\"Average closing price of Ethereum:\", average_close_price)"
   ]
  },
  {
   "cell_type": "code",
   "execution_count": null,
   "id": "c207c1a2",
   "metadata": {},
   "outputs": [],
   "source": [
    "# Tether"
   ]
  },
  {
   "cell_type": "code",
   "execution_count": 43,
   "id": "a0bab5b2",
   "metadata": {},
   "outputs": [
    {
     "name": "stdout",
     "output_type": "stream",
     "text": [
      "[*********************100%***********************]  1 of 1 completed\n"
     ]
    }
   ],
   "source": [
    "data = yf.download(\n",
    "    tickers = \"USDT-USD\",\n",
    "    period = \"5d\",\n",
    "    interval= \"15m\"\n",
    ")"
   ]
  },
  {
   "cell_type": "code",
   "execution_count": 44,
   "id": "35aa5ce7",
   "metadata": {},
   "outputs": [
    {
     "data": {
      "text/html": [
       "<div>\n",
       "<style scoped>\n",
       "    .dataframe tbody tr th:only-of-type {\n",
       "        vertical-align: middle;\n",
       "    }\n",
       "\n",
       "    .dataframe tbody tr th {\n",
       "        vertical-align: top;\n",
       "    }\n",
       "\n",
       "    .dataframe thead th {\n",
       "        text-align: right;\n",
       "    }\n",
       "</style>\n",
       "<table border=\"1\" class=\"dataframe\">\n",
       "  <thead>\n",
       "    <tr style=\"text-align: right;\">\n",
       "      <th></th>\n",
       "      <th>Open</th>\n",
       "      <th>High</th>\n",
       "      <th>Low</th>\n",
       "      <th>Close</th>\n",
       "      <th>Adj Close</th>\n",
       "      <th>Volume</th>\n",
       "    </tr>\n",
       "    <tr>\n",
       "      <th>Datetime</th>\n",
       "      <th></th>\n",
       "      <th></th>\n",
       "      <th></th>\n",
       "      <th></th>\n",
       "      <th></th>\n",
       "      <th></th>\n",
       "    </tr>\n",
       "  </thead>\n",
       "  <tbody>\n",
       "    <tr>\n",
       "      <th>2023-07-08 00:00:00</th>\n",
       "      <td>1.000129</td>\n",
       "      <td>1.000371</td>\n",
       "      <td>0.999950</td>\n",
       "      <td>1.000124</td>\n",
       "      <td>1.000124</td>\n",
       "      <td>0</td>\n",
       "    </tr>\n",
       "    <tr>\n",
       "      <th>2023-07-08 00:15:00</th>\n",
       "      <td>1.000243</td>\n",
       "      <td>1.000441</td>\n",
       "      <td>1.000075</td>\n",
       "      <td>1.000096</td>\n",
       "      <td>1.000096</td>\n",
       "      <td>0</td>\n",
       "    </tr>\n",
       "    <tr>\n",
       "      <th>2023-07-08 00:30:00</th>\n",
       "      <td>1.000141</td>\n",
       "      <td>1.000693</td>\n",
       "      <td>1.000055</td>\n",
       "      <td>1.000201</td>\n",
       "      <td>1.000201</td>\n",
       "      <td>0</td>\n",
       "    </tr>\n",
       "    <tr>\n",
       "      <th>2023-07-08 00:45:00</th>\n",
       "      <td>1.000196</td>\n",
       "      <td>1.000377</td>\n",
       "      <td>1.000054</td>\n",
       "      <td>1.000276</td>\n",
       "      <td>1.000276</td>\n",
       "      <td>0</td>\n",
       "    </tr>\n",
       "    <tr>\n",
       "      <th>2023-07-08 01:00:00</th>\n",
       "      <td>1.000115</td>\n",
       "      <td>1.000641</td>\n",
       "      <td>1.000115</td>\n",
       "      <td>1.000283</td>\n",
       "      <td>1.000283</td>\n",
       "      <td>0</td>\n",
       "    </tr>\n",
       "  </tbody>\n",
       "</table>\n",
       "</div>"
      ],
      "text/plain": [
       "                         Open      High       Low     Close  Adj Close  Volume\n",
       "Datetime                                                                      \n",
       "2023-07-08 00:00:00  1.000129  1.000371  0.999950  1.000124   1.000124       0\n",
       "2023-07-08 00:15:00  1.000243  1.000441  1.000075  1.000096   1.000096       0\n",
       "2023-07-08 00:30:00  1.000141  1.000693  1.000055  1.000201   1.000201       0\n",
       "2023-07-08 00:45:00  1.000196  1.000377  1.000054  1.000276   1.000276       0\n",
       "2023-07-08 01:00:00  1.000115  1.000641  1.000115  1.000283   1.000283       0"
      ]
     },
     "execution_count": 44,
     "metadata": {},
     "output_type": "execute_result"
    }
   ],
   "source": [
    "data.head()\n"
   ]
  },
  {
   "cell_type": "code",
   "execution_count": 45,
   "id": "4d0e0027",
   "metadata": {},
   "outputs": [],
   "source": [
    "data.to_csv(\"data3\")"
   ]
  },
  {
   "cell_type": "code",
   "execution_count": 46,
   "id": "a159910d",
   "metadata": {},
   "outputs": [],
   "source": [
    "# Calculate the average closing price for Tether\n",
    "average_close_price = data['Close'].mean()\n"
   ]
  },
  {
   "cell_type": "code",
   "execution_count": 47,
   "id": "4d368b1a",
   "metadata": {},
   "outputs": [
    {
     "name": "stdout",
     "output_type": "stream",
     "text": [
      "Average closing price of Ethereum: 1.0001515250380446\n"
     ]
    }
   ],
   "source": [
    "print(\"Average closing price of Tether:\", average_close_price)"
   ]
  },
  {
   "cell_type": "code",
   "execution_count": 48,
   "id": "65b99cc4",
   "metadata": {},
   "outputs": [],
   "source": [
    "# BNB"
   ]
  },
  {
   "cell_type": "code",
   "execution_count": 49,
   "id": "b074326e",
   "metadata": {},
   "outputs": [
    {
     "name": "stdout",
     "output_type": "stream",
     "text": [
      "[*********************100%***********************]  1 of 1 completed\n"
     ]
    }
   ],
   "source": [
    "data = yf.download(\n",
    "    tickers = \"BNB-USD\",\n",
    "    period = \"5d\",\n",
    "    interval= \"15m\"\n",
    ")"
   ]
  },
  {
   "cell_type": "code",
   "execution_count": 50,
   "id": "1a061f1e",
   "metadata": {},
   "outputs": [
    {
     "data": {
      "text/html": [
       "<div>\n",
       "<style scoped>\n",
       "    .dataframe tbody tr th:only-of-type {\n",
       "        vertical-align: middle;\n",
       "    }\n",
       "\n",
       "    .dataframe tbody tr th {\n",
       "        vertical-align: top;\n",
       "    }\n",
       "\n",
       "    .dataframe thead th {\n",
       "        text-align: right;\n",
       "    }\n",
       "</style>\n",
       "<table border=\"1\" class=\"dataframe\">\n",
       "  <thead>\n",
       "    <tr style=\"text-align: right;\">\n",
       "      <th></th>\n",
       "      <th>Open</th>\n",
       "      <th>High</th>\n",
       "      <th>Low</th>\n",
       "      <th>Close</th>\n",
       "      <th>Adj Close</th>\n",
       "      <th>Volume</th>\n",
       "    </tr>\n",
       "    <tr>\n",
       "      <th>Datetime</th>\n",
       "      <th></th>\n",
       "      <th></th>\n",
       "      <th></th>\n",
       "      <th></th>\n",
       "      <th></th>\n",
       "      <th></th>\n",
       "    </tr>\n",
       "  </thead>\n",
       "  <tbody>\n",
       "    <tr>\n",
       "      <th>2023-07-08 00:00:00</th>\n",
       "      <td>235.610260</td>\n",
       "      <td>235.610260</td>\n",
       "      <td>235.490875</td>\n",
       "      <td>235.528595</td>\n",
       "      <td>235.528595</td>\n",
       "      <td>0</td>\n",
       "    </tr>\n",
       "    <tr>\n",
       "      <th>2023-07-08 00:15:00</th>\n",
       "      <td>235.536209</td>\n",
       "      <td>235.864685</td>\n",
       "      <td>235.520691</td>\n",
       "      <td>235.864685</td>\n",
       "      <td>235.864685</td>\n",
       "      <td>0</td>\n",
       "    </tr>\n",
       "    <tr>\n",
       "      <th>2023-07-08 00:30:00</th>\n",
       "      <td>235.873184</td>\n",
       "      <td>235.882065</td>\n",
       "      <td>235.817886</td>\n",
       "      <td>235.879883</td>\n",
       "      <td>235.879883</td>\n",
       "      <td>176192</td>\n",
       "    </tr>\n",
       "    <tr>\n",
       "      <th>2023-07-08 00:45:00</th>\n",
       "      <td>235.902359</td>\n",
       "      <td>236.004929</td>\n",
       "      <td>235.872543</td>\n",
       "      <td>236.004929</td>\n",
       "      <td>236.004929</td>\n",
       "      <td>0</td>\n",
       "    </tr>\n",
       "    <tr>\n",
       "      <th>2023-07-08 01:00:00</th>\n",
       "      <td>236.078094</td>\n",
       "      <td>236.377701</td>\n",
       "      <td>236.078094</td>\n",
       "      <td>236.377701</td>\n",
       "      <td>236.377701</td>\n",
       "      <td>0</td>\n",
       "    </tr>\n",
       "  </tbody>\n",
       "</table>\n",
       "</div>"
      ],
      "text/plain": [
       "                           Open        High         Low       Close   \n",
       "Datetime                                                              \n",
       "2023-07-08 00:00:00  235.610260  235.610260  235.490875  235.528595  \\\n",
       "2023-07-08 00:15:00  235.536209  235.864685  235.520691  235.864685   \n",
       "2023-07-08 00:30:00  235.873184  235.882065  235.817886  235.879883   \n",
       "2023-07-08 00:45:00  235.902359  236.004929  235.872543  236.004929   \n",
       "2023-07-08 01:00:00  236.078094  236.377701  236.078094  236.377701   \n",
       "\n",
       "                      Adj Close  Volume  \n",
       "Datetime                                 \n",
       "2023-07-08 00:00:00  235.528595       0  \n",
       "2023-07-08 00:15:00  235.864685       0  \n",
       "2023-07-08 00:30:00  235.879883  176192  \n",
       "2023-07-08 00:45:00  236.004929       0  \n",
       "2023-07-08 01:00:00  236.377701       0  "
      ]
     },
     "execution_count": 50,
     "metadata": {},
     "output_type": "execute_result"
    }
   ],
   "source": [
    "data.head()\n"
   ]
  },
  {
   "cell_type": "code",
   "execution_count": 51,
   "id": "ed3ffed7",
   "metadata": {},
   "outputs": [],
   "source": [
    "data.to_csv(\"data4\")"
   ]
  },
  {
   "cell_type": "code",
   "execution_count": 52,
   "id": "f1534743",
   "metadata": {},
   "outputs": [],
   "source": [
    "# Calculate the average closing price for BNB\n",
    "average_close_price = data['Close'].mean()\n"
   ]
  },
  {
   "cell_type": "code",
   "execution_count": 53,
   "id": "0ea8a9cb",
   "metadata": {},
   "outputs": [
    {
     "name": "stdout",
     "output_type": "stream",
     "text": [
      "Average closing price of Tether: 240.20808481183946\n"
     ]
    }
   ],
   "source": [
    "print(\"Average closing price of BNB:\", average_close_price)"
   ]
  },
  {
   "cell_type": "code",
   "execution_count": null,
   "id": "96aada65",
   "metadata": {},
   "outputs": [],
   "source": [
    "# XRP"
   ]
  },
  {
   "cell_type": "code",
   "execution_count": 54,
   "id": "1f662076",
   "metadata": {},
   "outputs": [
    {
     "name": "stdout",
     "output_type": "stream",
     "text": [
      "[*********************100%***********************]  1 of 1 completed\n"
     ]
    }
   ],
   "source": [
    "data = yf.download(\n",
    "    tickers = \"XRP-USD\",\n",
    "    period = \"5d\",\n",
    "    interval= \"15m\"\n",
    ")"
   ]
  },
  {
   "cell_type": "code",
   "execution_count": 55,
   "id": "053c34f1",
   "metadata": {},
   "outputs": [
    {
     "data": {
      "text/html": [
       "<div>\n",
       "<style scoped>\n",
       "    .dataframe tbody tr th:only-of-type {\n",
       "        vertical-align: middle;\n",
       "    }\n",
       "\n",
       "    .dataframe tbody tr th {\n",
       "        vertical-align: top;\n",
       "    }\n",
       "\n",
       "    .dataframe thead th {\n",
       "        text-align: right;\n",
       "    }\n",
       "</style>\n",
       "<table border=\"1\" class=\"dataframe\">\n",
       "  <thead>\n",
       "    <tr style=\"text-align: right;\">\n",
       "      <th></th>\n",
       "      <th>Open</th>\n",
       "      <th>High</th>\n",
       "      <th>Low</th>\n",
       "      <th>Close</th>\n",
       "      <th>Adj Close</th>\n",
       "      <th>Volume</th>\n",
       "    </tr>\n",
       "    <tr>\n",
       "      <th>Datetime</th>\n",
       "      <th></th>\n",
       "      <th></th>\n",
       "      <th></th>\n",
       "      <th></th>\n",
       "      <th></th>\n",
       "      <th></th>\n",
       "    </tr>\n",
       "  </thead>\n",
       "  <tbody>\n",
       "    <tr>\n",
       "      <th>2023-07-08 00:00:00</th>\n",
       "      <td>0.468757</td>\n",
       "      <td>0.468757</td>\n",
       "      <td>0.468284</td>\n",
       "      <td>0.468284</td>\n",
       "      <td>0.468284</td>\n",
       "      <td>0</td>\n",
       "    </tr>\n",
       "    <tr>\n",
       "      <th>2023-07-08 00:15:00</th>\n",
       "      <td>0.468277</td>\n",
       "      <td>0.468277</td>\n",
       "      <td>0.467720</td>\n",
       "      <td>0.467723</td>\n",
       "      <td>0.467723</td>\n",
       "      <td>0</td>\n",
       "    </tr>\n",
       "    <tr>\n",
       "      <th>2023-07-08 00:30:00</th>\n",
       "      <td>0.467735</td>\n",
       "      <td>0.467735</td>\n",
       "      <td>0.467326</td>\n",
       "      <td>0.467342</td>\n",
       "      <td>0.467342</td>\n",
       "      <td>0</td>\n",
       "    </tr>\n",
       "    <tr>\n",
       "      <th>2023-07-08 00:45:00</th>\n",
       "      <td>0.467366</td>\n",
       "      <td>0.467451</td>\n",
       "      <td>0.467237</td>\n",
       "      <td>0.467275</td>\n",
       "      <td>0.467275</td>\n",
       "      <td>0</td>\n",
       "    </tr>\n",
       "    <tr>\n",
       "      <th>2023-07-08 01:00:00</th>\n",
       "      <td>0.467141</td>\n",
       "      <td>0.467294</td>\n",
       "      <td>0.466984</td>\n",
       "      <td>0.467220</td>\n",
       "      <td>0.467220</td>\n",
       "      <td>0</td>\n",
       "    </tr>\n",
       "  </tbody>\n",
       "</table>\n",
       "</div>"
      ],
      "text/plain": [
       "                         Open      High       Low     Close  Adj Close  Volume\n",
       "Datetime                                                                      \n",
       "2023-07-08 00:00:00  0.468757  0.468757  0.468284  0.468284   0.468284       0\n",
       "2023-07-08 00:15:00  0.468277  0.468277  0.467720  0.467723   0.467723       0\n",
       "2023-07-08 00:30:00  0.467735  0.467735  0.467326  0.467342   0.467342       0\n",
       "2023-07-08 00:45:00  0.467366  0.467451  0.467237  0.467275   0.467275       0\n",
       "2023-07-08 01:00:00  0.467141  0.467294  0.466984  0.467220   0.467220       0"
      ]
     },
     "execution_count": 55,
     "metadata": {},
     "output_type": "execute_result"
    }
   ],
   "source": [
    "data.head()\n"
   ]
  },
  {
   "cell_type": "code",
   "execution_count": 56,
   "id": "ec8040ba",
   "metadata": {},
   "outputs": [],
   "source": [
    "data.to_csv(\"data5\")"
   ]
  },
  {
   "cell_type": "code",
   "execution_count": 58,
   "id": "a66317c5",
   "metadata": {},
   "outputs": [],
   "source": [
    "# Calculate the average closing price for XRP\n",
    "average_close_price = data['Close'].mean()\n"
   ]
  },
  {
   "cell_type": "code",
   "execution_count": 59,
   "id": "0c5e652d",
   "metadata": {},
   "outputs": [
    {
     "name": "stdout",
     "output_type": "stream",
     "text": [
      "Average closing price of XRP: 0.4714306897490564\n"
     ]
    }
   ],
   "source": [
    "print(\"Average closing price of XRP:\", average_close_price)"
   ]
  },
  {
   "cell_type": "code",
   "execution_count": null,
   "id": "16f6a473",
   "metadata": {},
   "outputs": [],
   "source": []
  }
 ],
 "metadata": {
  "kernelspec": {
   "display_name": "Python 3 (ipykernel)",
   "language": "python",
   "name": "python3"
  },
  "language_info": {
   "codemirror_mode": {
    "name": "ipython",
    "version": 3
   },
   "file_extension": ".py",
   "mimetype": "text/x-python",
   "name": "python",
   "nbconvert_exporter": "python",
   "pygments_lexer": "ipython3",
   "version": "3.10.10"
  }
 },
 "nbformat": 4,
 "nbformat_minor": 5
}
