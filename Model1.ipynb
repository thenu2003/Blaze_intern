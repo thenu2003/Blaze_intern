{
 "cells": [
  {
   "cell_type": "code",
   "execution_count": 2,
   "metadata": {},
   "outputs": [],
   "source": [
    "import yfinance as yf\n",
    "import pandas as pd"
   ]
  },
  {
   "cell_type": "code",
   "execution_count": 3,
   "metadata": {},
   "outputs": [
    {
     "name": "stdout",
     "output_type": "stream",
     "text": [
      "[*********************100%***********************]  1 of 1 completed\n"
     ]
    }
   ],
   "source": [
    "data = yf.download(\n",
    "    tickers = \"BTC-USD\",\n",
    "    period = \"1d\",\n",
    "    interval= \"1m\"\n",
    ")"
   ]
  },
  {
   "cell_type": "code",
   "execution_count": 4,
   "metadata": {},
   "outputs": [
    {
     "data": {
      "text/html": [
       "<div>\n",
       "<style scoped>\n",
       "    .dataframe tbody tr th:only-of-type {\n",
       "        vertical-align: middle;\n",
       "    }\n",
       "\n",
       "    .dataframe tbody tr th {\n",
       "        vertical-align: top;\n",
       "    }\n",
       "\n",
       "    .dataframe thead th {\n",
       "        text-align: right;\n",
       "    }\n",
       "</style>\n",
       "<table border=\"1\" class=\"dataframe\">\n",
       "  <thead>\n",
       "    <tr style=\"text-align: right;\">\n",
       "      <th></th>\n",
       "      <th>Open</th>\n",
       "      <th>High</th>\n",
       "      <th>Low</th>\n",
       "      <th>Close</th>\n",
       "      <th>Adj Close</th>\n",
       "      <th>Volume</th>\n",
       "    </tr>\n",
       "    <tr>\n",
       "      <th>Datetime</th>\n",
       "      <th></th>\n",
       "      <th></th>\n",
       "      <th></th>\n",
       "      <th></th>\n",
       "      <th></th>\n",
       "      <th></th>\n",
       "    </tr>\n",
       "  </thead>\n",
       "  <tbody>\n",
       "    <tr>\n",
       "      <th>2023-07-12 00:00:00+00:00</th>\n",
       "      <td>30622.246094</td>\n",
       "      <td>30622.246094</td>\n",
       "      <td>30622.246094</td>\n",
       "      <td>30622.246094</td>\n",
       "      <td>30622.246094</td>\n",
       "      <td>0</td>\n",
       "    </tr>\n",
       "    <tr>\n",
       "      <th>2023-07-12 00:01:00+00:00</th>\n",
       "      <td>30632.232422</td>\n",
       "      <td>30632.232422</td>\n",
       "      <td>30632.232422</td>\n",
       "      <td>30632.232422</td>\n",
       "      <td>30632.232422</td>\n",
       "      <td>0</td>\n",
       "    </tr>\n",
       "    <tr>\n",
       "      <th>2023-07-12 00:02:00+00:00</th>\n",
       "      <td>30629.943359</td>\n",
       "      <td>30629.943359</td>\n",
       "      <td>30629.943359</td>\n",
       "      <td>30629.943359</td>\n",
       "      <td>30629.943359</td>\n",
       "      <td>0</td>\n",
       "    </tr>\n",
       "    <tr>\n",
       "      <th>2023-07-12 00:03:00+00:00</th>\n",
       "      <td>30620.931641</td>\n",
       "      <td>30620.931641</td>\n",
       "      <td>30620.931641</td>\n",
       "      <td>30620.931641</td>\n",
       "      <td>30620.931641</td>\n",
       "      <td>0</td>\n",
       "    </tr>\n",
       "    <tr>\n",
       "      <th>2023-07-12 00:04:00+00:00</th>\n",
       "      <td>30624.853516</td>\n",
       "      <td>30624.853516</td>\n",
       "      <td>30624.853516</td>\n",
       "      <td>30624.853516</td>\n",
       "      <td>30624.853516</td>\n",
       "      <td>0</td>\n",
       "    </tr>\n",
       "  </tbody>\n",
       "</table>\n",
       "</div>"
      ],
      "text/plain": [
       "                                   Open          High           Low  \\\n",
       "Datetime                                                              \n",
       "2023-07-12 00:00:00+00:00  30622.246094  30622.246094  30622.246094   \n",
       "2023-07-12 00:01:00+00:00  30632.232422  30632.232422  30632.232422   \n",
       "2023-07-12 00:02:00+00:00  30629.943359  30629.943359  30629.943359   \n",
       "2023-07-12 00:03:00+00:00  30620.931641  30620.931641  30620.931641   \n",
       "2023-07-12 00:04:00+00:00  30624.853516  30624.853516  30624.853516   \n",
       "\n",
       "                                  Close     Adj Close  Volume  \n",
       "Datetime                                                       \n",
       "2023-07-12 00:00:00+00:00  30622.246094  30622.246094       0  \n",
       "2023-07-12 00:01:00+00:00  30632.232422  30632.232422       0  \n",
       "2023-07-12 00:02:00+00:00  30629.943359  30629.943359       0  \n",
       "2023-07-12 00:03:00+00:00  30620.931641  30620.931641       0  \n",
       "2023-07-12 00:04:00+00:00  30624.853516  30624.853516       0  "
      ]
     },
     "execution_count": 4,
     "metadata": {},
     "output_type": "execute_result"
    }
   ],
   "source": [
    "data.head()"
   ]
  },
  {
   "cell_type": "code",
   "execution_count": null,
   "metadata": {},
   "outputs": [],
   "source": []
  }
 ],
 "metadata": {
  "kernelspec": {
   "display_name": "Python 3",
   "language": "python",
   "name": "python3"
  },
  "language_info": {
   "codemirror_mode": {
    "name": "ipython",
    "version": 3
   },
   "file_extension": ".py",
   "mimetype": "text/x-python",
   "name": "python",
   "nbconvert_exporter": "python",
   "pygments_lexer": "ipython3",
   "version": "3.10.10"
  },
  "orig_nbformat": 4
 },
 "nbformat": 4,
 "nbformat_minor": 2
}
